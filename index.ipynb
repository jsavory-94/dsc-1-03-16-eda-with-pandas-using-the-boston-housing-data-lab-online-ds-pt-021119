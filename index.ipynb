{
 "cells": [
  {
   "cell_type": "markdown",
   "metadata": {},
   "source": [
    "# Project - EDA with Pandas Using the Boston Housing Data\n",
    "\n",
    "## Introduction\n",
    "\n",
    "In this section you've learned a lot about importing, cleaning up, analysing (using descriptive statistics) and visualizing data. In this more free form project you'll get a chance to practice all of these skills with the Boston Housing data set, which contains housing values in suburbs of Boston. The Boston Housing Data is commonly used by aspiring data scientists.\n",
    "\n",
    "## Objectives\n",
    "\n",
    "You will be able to:\n",
    "\n",
    "* Load csv files using Pandas\n",
    "* Find variables with high correlation\n",
    "* Create box plots"
   ]
  },
  {
   "cell_type": "markdown",
   "metadata": {},
   "source": [
    "# Goals\n",
    "\n",
    "Use your data munging and visualization skills to conduct an exploratory analysis of the dataset below. At minimum, this should include:\n",
    "\n",
    "* Loading the data (which is stored in the file train.csv)\n",
    "* Use built-in python functions to explore measures of centrality and dispersion for at least 3 variables\n",
    "* Create *meaningful* subsets of the data using selection operations using `.loc`, `.iloc` or related operations. Explain why you used the chosen subsets and do this for 3 possible 2-way splits. State how you think the 2 measures of centrality and/or dispersion might be different for each subset of the data. Examples of potential splits:\n",
    "    - Create a 2 new dataframes based on your existing data, where one contains all the properties next to the Charles river, and the other one contains properties that aren't.\n",
    "    - Create 2 new datagrames based on a certain split for crime rate.\n",
    "* Next, use histograms and scatterplots to see whether you observe differences for the subsets of the data. Make sure to use subplots so it is easy to compare the relationships."
   ]
  },
  {
   "cell_type": "code",
   "execution_count": 56,
   "metadata": {},
   "outputs": [
    {
     "data": {
      "text/plain": [
       "Text(0.5,1,'Crime Rate vs. Pupil/teacher Ratio (High Crime Rate Towns)')"
      ]
     },
     "execution_count": 56,
     "metadata": {},
     "output_type": "execute_result"
    },
    {
     "data": {
      "image/png": "[encoded data removed]",
      "text/plain": [
       "<Figure size 1440x576 with 2 Axes>"
      ]
     },
     "metadata": {},
     "output_type": "display_data"
    }
   ],
   "source": [
    "import pandas as pd\n",
    "import matplotlib.pyplot as plt\n",
    "%matplotlib inline\n",
    "\n",
    "#---LOADING THE DATA---\n",
    "df = pd.read_csv('train.csv')\n",
    "\n",
    "#---CENTRALITY AND DISPERSION---\n",
    "median_crime_rate = df['crim'].median()\n",
    "stddev_pupil_teacher_ratio = df['ptratio'].std()\n",
    "median_nox = df['nox'].median()\n",
    "\n",
    "#---SUBSETS---\n",
    "#Top 25% in crime rate\n",
    "crime_rate_75th_quantile = df['crim'].quantile(.75)\n",
    "crime_rate_75th_quantile\n",
    "\n",
    "high_crime = df.loc[(df['crim'] >= crime_rate_75th_quantile)]\n",
    "non_high_crime = df.loc[(df['crim'] < crime_rate_75th_quantile)]\n",
    "\n",
    "#Towns above average vs. below average in nox\n",
    "avg_nox_rate = df['nox'].mean()\n",
    "above_average_pollution = df.loc[(df['nox'] >= avg_nox_rate)]\n",
    "below_average_pollution = df.loc[(df['nox'] < avg_nox_rate)]\n",
    "\n",
    "#Top 25% oldest towns\n",
    "age_10th_quantile = df['age'].quantile(.1)\n",
    "top10percent_oldest_towns = df.loc[(df['age'] <= age_10th_quantile)]\n",
    "bottom90percent_oldest_towns = df.loc[(df['age'] > age_10th_quantile)]\n",
    "\n",
    "#---OBSERVED DIFFERENCES---\n",
    "#How does crime rate correlate to pupil-teacher ratio in high crime-rate cities vs. the rest of the data set?\n",
    "high_crime_x = df.loc[(df['crim'] >= crime_rate_75th_quantile),'crim']\n",
    "high_crime_x = list(high_crime_x)\n",
    "high_crime_x\n",
    "high_crime_y = df.loc[(df['crim'] >= crime_rate_75th_quantile),'ptratio']\n",
    "high_crime_y = list(high_crime_y)\n",
    "high_crime_y #High Crime\n",
    "\n",
    "non_high_crime_x = df.loc[(df['crim'] < crime_rate_75th_quantile), 'crim']\n",
    "non_high_crime_y = df.loc[(df['crim'] < crime_rate_75th_quantile), 'ptratio']\n",
    "\n",
    "fig = plt.figure(figsize=(20,8))\n",
    "\n",
    "fig_ax1 = fig.add_subplot(121)\n",
    "fig_ax2 = fig.add_subplot(122)\n",
    "\n",
    "fig_ax2.scatter(high_crime_x, high_crime_y, color='red', marker='^')\n",
    "fig_ax1.scatter(non_high_crime_x, non_high_crime_y, color='blue', marker='^')\n",
    "\n",
    "fig_ax1.set_xlabel('crime rate')\n",
    "fig_ax1.set_ylabel('pupil/teacher ratio')\n",
    "fig_ax1.set_title('Crime Rate vs. Pupil/teacher Ratio (Non High Crime Rate Towns)')\n",
    "fig_ax2.set_ylim(12,22)\n",
    "fig_ax2.set_xlabel('crime rate')\n",
    "fig_ax2.set_ylabel('pupil/teacher ratio')\n",
    "fig_ax2.set_title('Crime Rate vs. Pupil/teacher Ratio (High Crime Rate Towns)')\n"
   ]
  },
  {
   "cell_type": "code",
   "execution_count": 73,
   "metadata": {},
   "outputs": [
    {
     "ename": "AttributeError",
     "evalue": "'list' object has no attribute 'plot'",
     "output_type": "error",
     "traceback": [
      "\u001b[0;31m---------------------------------------------------------------------------\u001b[0m",
      "\u001b[0;31mAttributeError\u001b[0m                            Traceback (most recent call last)",
      "\u001b[0;32m<ipython-input-73-0767ac6eccfb>\u001b[0m in \u001b[0;36m<module>\u001b[0;34m()\u001b[0m\n\u001b[1;32m      7\u001b[0m \u001b[0;34m\u001b[0m\u001b[0m\n\u001b[1;32m      8\u001b[0m \u001b[0;34m\u001b[0m\u001b[0m\n\u001b[0;32m----> 9\u001b[0;31m \u001b[0mabove_average_pollution_nox\u001b[0m\u001b[0;34m.\u001b[0m\u001b[0mplot\u001b[0m\u001b[0;34m.\u001b[0m\u001b[0mhist\u001b[0m\u001b[0;34m(\u001b[0m\u001b[0malpha\u001b[0m \u001b[0;34m=\u001b[0m \u001b[0;36m0.7\u001b[0m\u001b[0;34m)\u001b[0m\u001b[0;34m\u001b[0m\u001b[0m\n\u001b[0m",
      "\u001b[0;31mAttributeError\u001b[0m: 'list' object has no attribute 'plot'"
     ]
    }
   ],
   "source": [
    "#How does the distribution of nox rate compare in towns that are above average vs. below?\n",
    "above_average_pollution_nox = df.loc[(df['nox'] >= avg_nox_rate), 'nox']\n",
    "above_average_pollution_nox = list(above_average_pollution_nox)\n",
    "\n",
    "below_average_pollution_nox = df.loc[(df['nox'] < avg_nox_rate), 'nox']\n",
    "below_average_pollution_nox = list(below_average_pollution_nox)\n",
    "\n",
    "\n",
    "data = pd.DataFrame({'above average': above_average_pollution_nox,\n",
    "                    'below average': below_average_pollution_nox},\n",
    "                     index = range(0, len(above_average_pollution_nox)))\n",
    "\n",
    "data.plot.hist(alpha = 0.7) "
   ]
  },
  {
   "cell_type": "markdown",
   "metadata": {},
   "source": [
    "# Variable Descriptions\n",
    "\n",
    "This data frame contains the following columns:\n",
    "\n",
    "#### crim  \n",
    "per capita crime rate by town.\n",
    "\n",
    "#### zn  \n",
    "proportion of residential land zoned for lots over 25,000 sq.ft.\n",
    "\n",
    "#### indus  \n",
    "proportion of non-retail business acres per town.\n",
    "\n",
    "#### chas  \n",
    "Charles River dummy variable (= 1 if tract bounds river; 0 otherwise).\n",
    "\n",
    "#### nox  \n",
    "nitrogen oxides concentration (parts per 10 million).\n",
    "\n",
    "#### rm  \n",
    "average number of rooms per dwelling.\n",
    "\n",
    "#### age  \n",
    "proportion of owner-occupied units built prior to 1940.\n",
    "\n",
    "#### dis  \n",
    "weighted mean of distances to five Boston employment centres.\n",
    "\n",
    "#### rad  \n",
    "index of accessibility to radial highways.\n",
    "\n",
    "#### tax  \n",
    "full-value property-tax rate per $10,000.\n",
    "\n",
    "#### ptratio  \n",
    "pupil-teacher ratio by town.\n",
    "\n",
    "#### black  \n",
    "1000(Bk - 0.63)^2 where Bk is the proportion of blacks by town.\n",
    "\n",
    "#### lstat  \n",
    "lower status of the population (percent).\n",
    "\n",
    "#### medv  \n",
    "median value of owner-occupied homes in $10000s.\n",
    "  \n",
    "  \n",
    "  \n",
    "Source\n",
    "Harrison, D. and Rubinfeld, D.L. (1978) Hedonic prices and the demand for clean air. J. Environ. Economics and Management 5, 81–102.\n",
    "\n",
    "Belsley D.A., Kuh, E. and Welsch, R.E. (1980) Regression Diagnostics. Identifying Influential Data and Sources of Collinearity. New York: Wiley."
   ]
  },
  {
   "cell_type": "markdown",
   "metadata": {},
   "source": [
    "## Summary\n",
    "\n",
    "Congratulations, you've completed your first \"freeform\" exploratory data analysis of a popular data set!"
   ]
  }
 ],
 "metadata": {
  "kernelspec": {
   "display_name": "Python 3",
   "language": "python",
   "name": "python3"
  },
  "language_info": {
   "codemirror_mode": {
    "name": "ipython",
    "version": 3
   },
   "file_extension": ".py",
   "mimetype": "text/x-python",
   "name": "python",
   "nbconvert_exporter": "python",
   "pygments_lexer": "ipython3",
   "version": "3.6.5"
  }
 },
 "nbformat": 4,
 "nbformat_minor": 2
}
